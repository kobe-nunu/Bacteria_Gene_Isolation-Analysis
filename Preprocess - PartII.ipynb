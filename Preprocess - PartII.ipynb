{
 "cells": [
  {
   "cell_type": "markdown",
   "id": "9a0c237d",
   "metadata": {},
   "source": [
    "### Defining Class and role to number encoding"
   ]
  },
  {
   "cell_type": "code",
   "execution_count": 1,
   "id": "73ac5f7c",
   "metadata": {},
   "outputs": [],
   "source": [
    "class_dct = {'METABOLISM': 0,\n",
    "             'MOBILOME': 1,\n",
    "             'INFORMATION STORAGE AND PROCESSING': 2,\n",
    "             'CELLULAR PROCESSES AND SIGNALING': 3, 'Unknown': 4}\n",
    "role_dct = {'Chromatin structure and dynamics': 0,\n",
    "            'Cell wall/membrane/envelope biogenesis': 1,\n",
    "            'Amino acid transport and metabolism': 2,\n",
    "            'Transcription': 3,\n",
    "            'Cell cycle control, cell division, chromosome partitioning': 4,\n",
    "            'Secondary metabolites biosynthesis, transport and catabolism': 5,\n",
    "            'Energy production and conversion': 6,\n",
    "            'Intracellular trafficking, secretion, and vesicular transport': 7,\n",
    "            'Cytoskeleton': 8,\n",
    "            'Lipid transport and metabolism': 9,\n",
    "            'Defense mechanisms': 10,\n",
    "            'Coenzyme transport and metabolism': 11,\n",
    "            'Translation, ribosomal structure and biogenesis': 12,\n",
    "            'Cell motility': 13,\n",
    "            'Mobilome: prophages, transposons': 14,\n",
    "            'Signal transduction mechanisms': 15,\n",
    "            'Nucleotide transport and metabolism': 16,\n",
    "            'Replication, recombination and repair': 17,\n",
    "            'Carbohydrate transport and metabolism': 18,\n",
    "            'Posttranslational modification, protein turnover, chaperones': 19,\n",
    "            'Extracellular structures': 20,\n",
    "            'Inorganic ion transport and metabolism': 21,\n",
    "            'RNA processing and modification': 22, 'Unknown': 23}"
   ]
  },
  {
   "cell_type": "code",
   "execution_count": 2,
   "id": "10bb9878",
   "metadata": {},
   "outputs": [],
   "source": [
    "import pandas as pd"
   ]
  },
  {
   "cell_type": "code",
   "execution_count": 3,
   "id": "8fb23dfa",
   "metadata": {},
   "outputs": [],
   "source": [
    "def mine(bac,df1, num_of_neighbors):\n",
    "    info = pd.read_csv('./cog_info_table.csv')\n",
    "    for index, row in bac.iterrows():\n",
    "        print(index)\n",
    "        nei = row['E'].split('\\t')[:-1]\n",
    "        for i in range(len(nei)):\n",
    "            neii = 'COG' + '0' * (4 - len(nei[i])) + nei[i]\n",
    "            if neii in info['A']:\n",
    "                continue\n",
    "            for j in range(len(nei)):\n",
    "                neij = 'COG' + '0' * (4 - len(nei[j])) + nei[j]\n",
    "                if neii == neij or (j - i) > num_of_neighbors or (i - j) > num_of_neighbors:\n",
    "                    continue\n",
    "                else:\n",
    "                    neij_class = info.loc[(info['A'] == neij), 'C'].values\n",
    "                    neij_role = info.loc[(info['A'] == neij), 'D'].values\n",
    "\n",
    "                    if len(neij_class) > 0:\n",
    "                        neij_class = neij_class[0]\n",
    "                    else:\n",
    "                        neij_class = 'Unknown'\n",
    "                    if len(neij_role) > 0:\n",
    "                        neij_role = neij_role[0]\n",
    "                    else:\n",
    "                        neij_role = 'Unknown'\n",
    "                if neij_class not in class_dct.keys():\n",
    "                    neij_class = 'Unknown'\n",
    "                if neij_role not in role_dct.keys():\n",
    "                    neij_role = 'Unknown'\n",
    "\n",
    "                df1.loc[df1.name == neii, f'class_{neij_class}'] +=1\n",
    "                df1.loc[df1.name == neii, f'role_{neij_role}'] +=1"
   ]
  },
  {
   "cell_type": "markdown",
   "id": "a5868c72",
   "metadata": {},
   "source": [
    "### Extracting the information using \"mine\" function:"
   ]
  },
  {
   "cell_type": "code",
   "execution_count": null,
   "id": "a741f4ce",
   "metadata": {},
   "outputs": [],
   "source": [
    "cogs = pd.read_csv('./cogs.csv')\n",
    "data = []\n",
    "for k in range(5665):\n",
    "    name = 'COG' + '0' * (4 - len(str(k))) + str(k)\n",
    "    if name in cogs.name.values:\n",
    "        data.append(name)\n",
    "for i in range(1,8):\n",
    "    df1 = pd.DataFrame(data, columns=['name'])\n",
    "    df1['name'] = df1['name'].astype('str')\n",
    "    for key in class_dct:\n",
    "        df1[f'class_{key}'] = 0\n",
    "    for key in role_dct:\n",
    "        df1[f'role_{key}'] = 0\n",
    "\n",
    "    bac = pd.read_csv('./cog_words_bac.csv')\n",
    "    main2(bac,df1, i)\n",
    "    bac2 = pd.read_csv('./cog_words_plasmid.csv')\n",
    "    main2(bac2, df1, i)\n",
    "    df1.to_csv(f'./df_{i}.csv', index=False)"
   ]
  }
 ],
 "metadata": {
  "kernelspec": {
   "display_name": "Python 3 (ipykernel)",
   "language": "python",
   "name": "python3"
  },
  "language_info": {
   "codemirror_mode": {
    "name": "ipython",
    "version": 3
   },
   "file_extension": ".py",
   "mimetype": "text/x-python",
   "name": "python",
   "nbconvert_exporter": "python",
   "pygments_lexer": "ipython3",
   "version": "3.9.7"
  }
 },
 "nbformat": 4,
 "nbformat_minor": 5
}
